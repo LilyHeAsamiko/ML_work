{
  "nbformat": 4,
  "nbformat_minor": 0,
  "metadata": {
    "colab": {
      "provenance": [],
      "authorship_tag": "ABX9TyPxrpaxcpYi0xHSbVQNn79A",
      "include_colab_link": true
    },
    "kernelspec": {
      "name": "python3",
      "display_name": "Python 3"
    },
    "language_info": {
      "name": "python"
    }
  },
  "cells": [
    {
      "cell_type": "markdown",
      "metadata": {
        "id": "view-in-github",
        "colab_type": "text"
      },
      "source": [
        "<a href=\"https://colab.research.google.com/github/LilyHeAsamiko/ML_work/blob/main/Copy_of_Note.ipynb\" target=\"_parent\"><img src=\"https://colab.research.google.com/assets/colab-badge.svg\" alt=\"Open In Colab\"/></a>"
      ]
    },
    {
      "cell_type": "code",
      "execution_count": null,
      "metadata": {
        "id": "xW6MSE_JF3PD"
      },
      "outputs": [],
      "source": [
        "class Aqiyi:\n",
        "def __init __(self):\n",
        "     self.client = pymongo.MongoClient(host='127.0.0.1', port=27017)\n",
        "    self.collection = self.client['spider9']['aqy']\n",
        "self.url = 'https://pcw-api.iqiyi.com/search/recommend/list'\n",
        "    self.headers = {'user-agent':'Mozilla/5.0...\n",
        "}\n",
        "    def get_data(self, params):\n",
        "        Response =\n",
        "        return response.json()\n",
        "    def parse_data(self, response):\n",
        "        data_list = response['data']['list']\n",
        "        #for data in data_list:\n",
        "            #print(data)\n",
        "        for video in data_list:\n",
        "           item ={}\n",
        "           item['title']=video['title']\n",
        "           item['playUrl'] = video['playUrl']\n",
        "           item['description'] = video['description']\n",
        "           self.save_data(item)\n",
        "    def save_data(self):\n",
        "        self.collection.insert_one(item)\n",
        "\n",
        "def main(self):\n",
        "    params ={'channel_id': '2',\n",
        "    'data_type':'1',\n",
        "'mode':'11',\n",
        "'page_id':'4'，\n",
        "'ret_num':'48'，\n",
        "‘session’：‘257d...’，\n",
        "\n",
        "\n",
        "if __name__ == 'main':\n",
        "    aqy = Aqiyi()\n",
        "    aqy.main()\n",
        "\n",
        "\n",
        "\n",
        "command 查看\n",
        "show dbs"
      ]
    }
  ]
}